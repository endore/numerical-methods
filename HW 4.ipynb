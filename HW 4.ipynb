{
 "metadata": {
  "name": "",
  "signature": "sha256:e760104634caeb12b2bd81890cf8506afe06121f387f7997dbbaf306563a20d3"
 },
 "nbformat": 3,
 "nbformat_minor": 0,
 "worksheets": [
  {
   "cells": [
    {
     "cell_type": "heading",
     "level": 1,
     "metadata": {
      "slideshow": {
       "slide_type": "slide"
      }
     },
     "source": [
      "Problem 11: European Call Pricing With Binomial Lattice Model"
     ]
    },
    {
     "cell_type": "markdown",
     "metadata": {
      "slideshow": {
       "slide_type": "skip"
      }
     },
     "source": [
      "Lets first preset all input parameters"
     ]
    },
    {
     "cell_type": "code",
     "collapsed": false,
     "input": [
      "%matplotlib inline\n",
      "from math import exp,sqrt\n",
      "T = 5.0/12\n",
      "K = 60\n",
      "S = 60\n",
      "r = 0.08\n",
      "sigma = 0.4\n",
      "\n",
      "def Binomal_Pricing_Call(T,K,S,r,sigma,N):\n",
      "    dT = T/N\n",
      "    riskFreeRate = exp(r*dT)\n",
      "    U = exp(sigma*sqrt(dT))\n",
      "    D = 1.0/U\n",
      "    p =(riskFreeRate - D)/(U-D)\n",
      "    return get_F_start(get_F_expiry(get_S_expiry(N,U,S),K),1.0/riskFreeRate,p,N)"
     ],
     "language": "python",
     "metadata": {
      "slideshow": {
       "slide_type": "slide"
      }
     },
     "outputs": [],
     "prompt_number": 100
    },
    {
     "cell_type": "markdown",
     "metadata": {
      "slideshow": {
       "slide_type": "notes"
      }
     },
     "source": [
      "As discussed in class, we can compute a European Price efficiently by:\n",
      "    1) finding the underlying prices at expiry S(i,N)\n",
      "    2) computing the payoff value of the option at each noode at expiry from S(i,N)--> F(i,N) = Max{S(i,N) - K, 0}\n",
      "    3) recurively calculating F(i,j) given F(i+1,j+1) and F(i,j) using the risk neutral pricing method\n",
      "  \n",
      " we make functions that can compartmentalize each of these steps"
     ]
    },
    {
     "cell_type": "heading",
     "level": 2,
     "metadata": {
      "slideshow": {
       "slide_type": "subslide"
      }
     },
     "source": [
      "Part 1: Get Underlying Price possibilities at Expiry"
     ]
    },
    {
     "cell_type": "code",
     "collapsed": false,
     "input": [
      "#part 1: Get S_iN\n",
      "def get_S_expiry(N,U,S):\n",
      "    #N is number of steps; T is time to expiry in years; U is the one-step growth facor for upstate;S is underlying price right now \n",
      "    S_expiry = [0]*(N+1);\n",
      "    if N%2 == 0:\n",
      "        k = int(N/2)\n",
      "        S_expiry[k] = S\n",
      "    else:\n",
      "        k =int((N+1)/2)\n",
      "        S_expiry[k] = S*U\n",
      "    U *= U # S_i+1 = Si* U^2 (two jumps up)\n",
      "    for i in range(k+1,N+1):\n",
      "        S_expiry[i] = S_expiry[i-1]*U\n",
      "    for i in range(k-1,-1,-1):\n",
      "        S_expiry[i] = S_expiry[i+1]/U\n",
      "    return S_expiry"
     ],
     "language": "python",
     "metadata": {
      "slideshow": {
       "slide_type": "slide"
      }
     },
     "outputs": [],
     "prompt_number": 101
    },
    {
     "cell_type": "markdown",
     "metadata": {
      "slideshow": {
       "slide_type": "skip"
      }
     },
     "source": [
      "lets test get_S_expiry"
     ]
    },
    {
     "cell_type": "code",
     "collapsed": false,
     "input": [
      "S_final = get_S_expiry(100,1.05,S)"
     ],
     "language": "python",
     "metadata": {
      "slideshow": {
       "slide_type": "subslide"
      }
     },
     "outputs": [],
     "prompt_number": 102
    },
    {
     "cell_type": "heading",
     "level": 2,
     "metadata": {
      "slideshow": {
       "slide_type": "subslide"
      }
     },
     "source": [
      "Part 2: Get Option Prices at Expiry"
     ]
    },
    {
     "cell_type": "code",
     "collapsed": false,
     "input": [
      "#part 2: Get F_iN\n",
      "def get_F_expiry(S,k):\n",
      "    size = len(S)\n",
      "    F = [0]*size\n",
      "    for i in range(size):\n",
      "            F[i]= max(S[i]-k,0)\n",
      "    return F"
     ],
     "language": "python",
     "metadata": {
      "slideshow": {
       "slide_type": "slide"
      }
     },
     "outputs": [],
     "prompt_number": 103
    },
    {
     "cell_type": "markdown",
     "metadata": {
      "slideshow": {
       "slide_type": "skip"
      }
     },
     "source": [
      "lets test F"
     ]
    },
    {
     "cell_type": "code",
     "collapsed": false,
     "input": [
      "F_final = get_F_expiry(S_final,K)\n",
      "for i in range(len(S_final)):\n",
      "    print(\"S: %s\\nF: %s\\n\\n\"%(S_final[i],F_final[i]))"
     ],
     "language": "python",
     "metadata": {
      "slideshow": {
       "slide_type": "slide"
      }
     },
     "outputs": [
      {
       "output_type": "stream",
       "stream": "stdout",
       "text": [
        "S: 0.4562693998724099\n",
        "F: 0\n",
        "\n",
        "\n",
        "S: 0.5030370133593319\n",
        "F: 0\n",
        "\n",
        "\n",
        "S: 0.5545983072286634\n",
        "F: 0\n",
        "\n",
        "\n",
        "S: 0.6114446337196014\n",
        "F: 0\n",
        "\n",
        "\n",
        "S: 0.6741177086758606\n",
        "F: 0\n",
        "\n",
        "\n",
        "S: 0.7432147738151363\n",
        "F: 0\n",
        "\n",
        "\n",
        "S: 0.8193942881311879\n",
        "F: 0\n",
        "\n",
        "\n",
        "S: 0.9033822026646346\n",
        "F: 0\n",
        "\n",
        "\n",
        "S: 0.9959788784377597\n",
        "F: 0\n",
        "\n",
        "\n",
        "S: 1.09806671347763\n",
        "F: 0\n",
        "\n",
        "\n",
        "S: 1.2106185516090873\n",
        "F: 0\n",
        "\n",
        "\n",
        "S: 1.3347069531490188\n",
        "F: 0\n",
        "\n",
        "\n",
        "S: 1.4715144158467932\n",
        "F: 0\n",
        "\n",
        "\n",
        "S: 1.6223446434710895\n",
        "F: 0\n",
        "\n",
        "\n",
        "S: 1.7886349694268762\n",
        "F: 0\n",
        "\n",
        "\n",
        "S: 1.971970053793131\n",
        "F: 0\n",
        "\n",
        "\n",
        "S: 2.174096984306927\n",
        "F: 0\n",
        "\n",
        "\n",
        "S: 2.3969419251983872\n",
        "F: 0\n",
        "\n",
        "\n",
        "S: 2.642628472531222\n",
        "F: 0\n",
        "\n",
        "\n",
        "S: 2.9134978909656724\n",
        "F: 0\n",
        "\n",
        "\n",
        "S: 3.212131424789654\n",
        "F: 0\n",
        "\n",
        "\n",
        "S: 3.5413748958305935\n",
        "F: 0\n",
        "\n",
        "\n",
        "S: 3.9043658226532294\n",
        "F: 0\n",
        "\n",
        "\n",
        "S: 4.304563319475186\n",
        "F: 0\n",
        "\n",
        "\n",
        "S: 4.745781059721392\n",
        "F: 0\n",
        "\n",
        "\n",
        "S: 5.232223618342835\n",
        "F: 0\n",
        "\n",
        "\n",
        "S: 5.768526539222976\n",
        "F: 0\n",
        "\n",
        "\n",
        "S: 6.359800509493331\n",
        "F: 0\n",
        "\n",
        "\n",
        "S: 7.0116800617163975\n",
        "F: 0\n",
        "\n",
        "\n",
        "S: 7.730377268042329\n",
        "F: 0\n",
        "\n",
        "\n",
        "S: 8.522740938016668\n",
        "F: 0\n",
        "\n",
        "\n",
        "S: 9.396321884163376\n",
        "F: 0\n",
        "\n",
        "\n",
        "S: 10.359444877290123\n",
        "F: 0\n",
        "\n",
        "\n",
        "S: 11.42128797721236\n",
        "F: 0\n",
        "\n",
        "\n",
        "S: 12.591969994876628\n",
        "F: 0\n",
        "\n",
        "\n",
        "S: 13.882646919351483\n",
        "F: 0\n",
        "\n",
        "\n",
        "S: 15.305618228585011\n",
        "F: 0\n",
        "\n",
        "\n",
        "S: 16.874444097014976\n",
        "F: 0\n",
        "\n",
        "\n",
        "S: 18.60407461695901\n",
        "F: 0\n",
        "\n",
        "\n",
        "S: 20.51099226519731\n",
        "F: 0\n",
        "\n",
        "\n",
        "S: 22.613368972380034\n",
        "F: 0\n",
        "\n",
        "\n",
        "S: 24.93123929204899\n",
        "F: 0\n",
        "\n",
        "\n",
        "S: 27.486691319484013\n",
        "F: 0\n",
        "\n",
        "\n",
        "S: 30.304077179731127\n",
        "F: 0\n",
        "\n",
        "\n",
        "S: 33.41024509065357\n",
        "F: 0\n",
        "\n",
        "\n",
        "S: 36.834795212445556\n",
        "F: 0\n",
        "\n",
        "\n",
        "S: 40.610361721721226\n",
        "F: 0\n",
        "\n",
        "\n",
        "S: 44.77292379819765\n",
        "F: 0\n",
        "\n",
        "\n",
        "S: 49.36214848751291\n",
        "F: 0\n",
        "\n",
        "\n",
        "S: 54.42176870748299\n",
        "F: 0\n",
        "\n",
        "\n",
        "S: 60\n",
        "F: 0\n",
        "\n",
        "\n",
        "S: 66.15\n",
        "F: 6.150000000000006\n",
        "\n",
        "\n",
        "S: 72.93037500000001\n",
        "F: 12.930375000000012\n",
        "\n",
        "\n",
        "S: 80.40573843750002\n",
        "F: 20.40573843750002\n",
        "\n",
        "\n",
        "S: 88.64732662734377\n",
        "F: 28.647326627343773\n",
        "\n",
        "\n",
        "S: 97.73367760664651\n",
        "F: 37.73367760664651\n",
        "\n",
        "\n",
        "S: 107.75137956132778\n",
        "F: 47.75137956132778\n",
        "\n",
        "\n",
        "S: 118.79589596636389\n",
        "F: 58.79589596636389\n",
        "\n",
        "\n",
        "S: 130.9724753029162\n",
        "F: 70.9724753029162\n",
        "\n",
        "\n",
        "S: 144.3971540214651\n",
        "F: 84.3971540214651\n",
        "\n",
        "\n",
        "S: 159.19786230866526\n",
        "F: 99.19786230866526\n",
        "\n",
        "\n",
        "S: 175.51564319530345\n",
        "F: 115.51564319530345\n",
        "\n",
        "\n",
        "S: 193.50599662282207\n",
        "F: 133.50599662282207\n",
        "\n",
        "\n",
        "S: 213.34036127666133\n",
        "F: 153.34036127666133\n",
        "\n",
        "\n",
        "S: 235.20774830751913\n",
        "F: 175.20774830751913\n",
        "\n",
        "\n",
        "S: 259.31654250903983\n",
        "F: 199.31654250903983\n",
        "\n",
        "\n",
        "S: 285.8964881162164\n",
        "F: 225.8964881162164\n",
        "\n",
        "\n",
        "S: 315.2008781481286\n",
        "F: 255.2008781481286\n",
        "\n",
        "\n",
        "S: 347.5089681583118\n",
        "F: 287.5089681583118\n",
        "\n",
        "\n",
        "S: 383.12863739453877\n",
        "F: 323.12863739453877\n",
        "\n",
        "\n",
        "S: 422.399322727479\n",
        "F: 362.399322727479\n",
        "\n",
        "\n",
        "S: 465.6952533070456\n",
        "F: 405.6952533070456\n",
        "\n",
        "\n",
        "S: 513.4290167710178\n",
        "F: 453.4290167710178\n",
        "\n",
        "\n",
        "S: 566.0554909900471\n",
        "F: 506.05549099004713\n",
        "\n",
        "\n",
        "S: 624.076178816527\n",
        "F: 564.076178816527\n",
        "\n",
        "\n",
        "S: 688.043987145221\n",
        "F: 628.043987145221\n",
        "\n",
        "\n",
        "S: 758.5684958276062\n",
        "F: 698.5684958276062\n",
        "\n",
        "\n",
        "S: 836.3217666499359\n",
        "F: 776.3217666499359\n",
        "\n",
        "\n",
        "S: 922.0447477315543\n",
        "F: 862.0447477315543\n",
        "\n",
        "\n",
        "S: 1016.5543343740386\n",
        "F: 956.5543343740386\n",
        "\n",
        "\n",
        "S: 1120.7511536473776\n",
        "F: 1060.7511536473776\n",
        "\n",
        "\n",
        "S: 1235.6281468962338\n",
        "F: 1175.6281468962338\n",
        "\n",
        "\n",
        "S: 1362.280031953098\n",
        "F: 1302.280031953098\n",
        "\n",
        "\n",
        "S: 1501.9137352282905\n",
        "F: 1441.9137352282905\n",
        "\n",
        "\n",
        "S: 1655.8598930891903\n",
        "F: 1595.8598930891903\n",
        "\n",
        "\n",
        "S: 1825.5855321308325\n",
        "F: 1765.5855321308325\n",
        "\n",
        "\n",
        "S: 2012.708049174243\n",
        "F: 1952.708049174243\n",
        "\n",
        "\n",
        "S: 2219.010624214603\n",
        "F: 2159.010624214603\n",
        "\n",
        "\n",
        "S: 2446.4592131966\n",
        "F: 2386.4592131966\n",
        "\n",
        "\n",
        "S: 2697.2212825492516\n",
        "F: 2637.2212825492516\n",
        "\n",
        "\n",
        "S: 2973.68646401055\n",
        "F: 2913.68646401055\n",
        "\n",
        "\n",
        "S: 3278.4893265716314\n",
        "F: 3218.4893265716314\n",
        "\n",
        "\n",
        "S: 3614.534482545224\n",
        "F: 3554.534482545224\n",
        "\n",
        "\n",
        "S: 3985.0242670061093\n",
        "F: 3925.0242670061093\n",
        "\n",
        "\n",
        "S: 4393.489254374235\n",
        "F: 4333.489254374235\n",
        "\n",
        "\n",
        "S: 4843.821902947595\n",
        "F: 4783.821902947595\n",
        "\n",
        "\n",
        "S: 5340.313647999724\n",
        "F: 5280.313647999724\n",
        "\n",
        "\n",
        "S: 5887.695796919696\n",
        "F: 5827.695796919696\n",
        "\n",
        "\n",
        "S: 6491.184616103965\n",
        "F: 6431.184616103965\n",
        "\n",
        "\n",
        "S: 7156.531039254622\n",
        "F: 7096.531039254622\n",
        "\n",
        "\n",
        "S: 7890.075470778221\n",
        "F: 7830.075470778221\n",
        "\n",
        "\n"
       ]
      }
     ],
     "prompt_number": 104
    },
    {
     "cell_type": "markdown",
     "metadata": {
      "slideshow": {
       "slide_type": "subslide"
      }
     },
     "source": [
      "It works!"
     ]
    },
    {
     "cell_type": "heading",
     "level": 2,
     "metadata": {
      "slideshow": {
       "slide_type": "slide"
      }
     },
     "source": [
      "Part 3: Discount Option Price and get current value"
     ]
    },
    {
     "cell_type": "code",
     "collapsed": false,
     "input": [
      "def get_F_start(F_final,discount_factor,p,N):\n",
      "    q = 1-p\n",
      "    X = discount_factor*p\n",
      "    Y = discount_factor*q\n",
      "    for j in range(N-1,-1,-1):\n",
      "        for i in range(j+1):\n",
      "            F_final[i] = X*F_final[i+1]+Y*F_final[i]\n",
      "    return F_final[0]"
     ],
     "language": "python",
     "metadata": {
      "slideshow": {
       "slide_type": "subslide"
      }
     },
     "outputs": [],
     "prompt_number": 105
    },
    {
     "cell_type": "markdown",
     "metadata": {
      "slideshow": {
       "slide_type": "skip"
      }
     },
     "source": [
      "Lets test our code"
     ]
    },
    {
     "cell_type": "code",
     "collapsed": false,
     "input": [
      "for n in [100,200,400]:\n",
      "    price = Binomal_Pricing_Call(T,K,S,r,sigma,n)\n",
      "    print('The value of the call approximated with %s steps is: $%s\\n'%(n,price))"
     ],
     "language": "python",
     "metadata": {
      "slideshow": {
       "slide_type": "slide"
      }
     },
     "outputs": [
      {
       "output_type": "stream",
       "stream": "stdout",
       "text": [
        "The value of the call approximated with 100 steps is: $7.08065734822188\n",
        "\n",
        "The value of the call approximated with 200 steps is: $7.088281084032049\n",
        "\n",
        "The value of the call approximated with 400 steps is: $7.092096609414893\n",
        "\n"
       ]
      }
     ],
     "prompt_number": 106
    },
    {
     "cell_type": "heading",
     "level": 2,
     "metadata": {
      "slideshow": {
       "slide_type": "slide"
      }
     },
     "source": [
      "Time to Plot"
     ]
    },
    {
     "cell_type": "code",
     "collapsed": false,
     "input": [
      "import matplotlib.pyplot as plt\n",
      "N = range(1,51)\n",
      "Prices = [0]*50\n",
      "for n in N:\n",
      "    Prices[n-1] = Binomal_Pricing_Call(T,K,S,r,sigma,n)\n",
      "plot1 = plt.plot(N,Prices)\n",
      "plt.xlabel('Number of Time Steps (N)')\n",
      "plt.ylabel('Computed Option Price at time 0 (F_0)')\n",
      "plt.title('Computed Call Option Price\\n vs. Number of time-steps used in Binomial Lattice')\n",
      "plt.show(plot1)"
     ],
     "language": "python",
     "metadata": {
      "slideshow": {
       "slide_type": "subslide"
      }
     },
     "outputs": [
      {
       "metadata": {},
       "output_type": "display_data",
       "png": "[encoded data removed]",
       "text": [
        "<matplotlib.figure.Figure at 0x5a10f60>"
       ]
      }
     ],
     "prompt_number": 107
    },
    {
     "cell_type": "heading",
     "level": 1,
     "metadata": {},
     "source": [
      "Problem 12: Pricing American Put with Binomial Lattice Model"
     ]
    },
    {
     "cell_type": "markdown",
     "metadata": {},
     "source": [
      "We will use an extension of the method used in problem 11. The added complexity in this case comes from the holder's opportunity to act early. therefore, we need to compare continuation value of the option with exercise value at every node.\n",
      "therefore: \n",
      "    F_i,t = Max{Exercise Val_i,t ,Continuation Val_i,t}\n",
      "\n",
      "But exercise value for a put is:\n",
      "    E_i,t = Max{K-S_i,t , 0}\n",
      "    \n",
      "And Continuation Value is the Risk Neutral Discounted Price at time t+ dt given the state of the world at time t is (i,t):\n",
      "    C_i,t = exp^(-r*dT)[P*F_(i+1),(t+1) + (1-P)*F_(i),(t+1)]\n",
      "\n",
      "Therefore, if we knew the full evolution of underlying and by the payoff get F_i,N. We can:\n",
      "    for t = N-1 to 0:\n",
      "        for i  = 0 to t\n",
      "            E_t,i = K-S_i,t\n",
      "            C_t,i = exp^(-r*dT)[P*F_(i+1),(t+1) + (1-P)*F_(i),(t+1)]\n",
      "            f_t,i = max{E_it,C_i,t}\n",
      "\n",
      "    f_0,0 wil be the current price\n",
      "    \n",
      "1) get full evolution of S  till time T given N steps\n",
      "2) get price of option at expiry and save in F_N\n",
      "3) discount using S-evolution, F_N , and other parameters to return F_0,0"
     ]
    },
    {
     "cell_type": "heading",
     "level": 2,
     "metadata": {},
     "source": [
      "Part 1: Get S_evolution for N steps"
     ]
    },
    {
     "cell_type": "code",
     "collapsed": false,
     "input": [
      "def get_S_Evol(N,U,S):\n",
      "    #N is the number of time steps\n",
      "    #U is the up-move multiplative factor\n",
      "    #S is the time 0 price of the underlying stock\n",
      "    S = float(S)\n",
      "    SE = [] # stock evolution\n",
      "    SE.append([])\n",
      "    SE[0].append(S)\n",
      "    SE.append([S/U,S*U])\n",
      "    for n in range(2,N+1):\n",
      "        SE.append([])\n",
      "        SE[n].append(SE[n-1][0]/U)\n",
      "        for i in range(1,n):\n",
      "             SE[n].append(SE[n-2][i-1])\n",
      "        SE[n].append(SE[n-1][n-1]*U)\n",
      "    return SE"
     ],
     "language": "python",
     "metadata": {},
     "outputs": [],
     "prompt_number": 108
    },
    {
     "cell_type": "markdown",
     "metadata": {},
     "source": [
      "Lets test it for 2 steps with S = 1, U = 2."
     ]
    },
    {
     "cell_type": "code",
     "collapsed": false,
     "input": [
      "Sample_evol = get_S_Evol(2,2,1)\n",
      "print(Sample_evol)"
     ],
     "language": "python",
     "metadata": {},
     "outputs": [
      {
       "output_type": "stream",
       "stream": "stdout",
       "text": [
        "[[1.0], [0.5, 2.0], [0.25, 1.0, 4.0]]\n"
       ]
      }
     ],
     "prompt_number": 109
    },
    {
     "cell_type": "heading",
     "level": 2,
     "metadata": {},
     "source": [
      "Part 2: Get Price of Option at Expiry"
     ]
    },
    {
     "cell_type": "markdown",
     "metadata": {},
     "source": [
      "The price of the put option at expiry will be F_(N,i) = max{K-S_(N,i),0}. Since we already have the stock evolution. Lets edit our previous Option Expiry function so that it can be told whether the option is a call or put and price accordingly"
     ]
    },
    {
     "cell_type": "code",
     "collapsed": false,
     "input": [
      "#part 2: Get F_iN\n",
      "def get_F_expiry(S,k,isCall):\n",
      "    size = len(S)\n",
      "    F = [0]*size\n",
      "    if isCall:\n",
      "        for i in range(size):\n",
      "            F[i]= max(S[i]-k,0)\n",
      "    else:\n",
      "        for i in range(size):\n",
      "            F[i]= max(k-S[i],0)\n",
      "    return F"
     ],
     "language": "python",
     "metadata": {
      "slideshow": {
       "slide_type": "slide"
      }
     },
     "outputs": [],
     "prompt_number": 110
    },
    {
     "cell_type": "code",
     "collapsed": false,
     "input": [
      "F_sample = get_F_expiry(Sample_evol[2],0.75,False)\n",
      "print(Sample_evol[2])\n",
      "print(F_sample)"
     ],
     "language": "python",
     "metadata": {},
     "outputs": [
      {
       "output_type": "stream",
       "stream": "stdout",
       "text": [
        "[0.25, 1.0, 4.0]\n",
        "[0.5, 0, 0]\n"
       ]
      }
     ],
     "prompt_number": 111
    },
    {
     "cell_type": "markdown",
     "metadata": {},
     "source": [
      "It works!"
     ]
    },
    {
     "cell_type": "heading",
     "level": 2,
     "metadata": {},
     "source": [
      "Part 3: Discounting Option prices upto time 0"
     ]
    },
    {
     "cell_type": "markdown",
     "metadata": {},
     "source": [
      "Now, we have weverything we need to start the discounting process."
     ]
    },
    {
     "cell_type": "code",
     "collapsed": false,
     "input": [
      "def American_Pricer(S,T,k,r,sigma,isCall,N):\n",
      "    dT = float(T/N)\n",
      "    discountFactor = exp(r*dT)\n",
      "    U = exp(sigma*sqrt(dT))\n",
      "    D = 1/U\n",
      "    \n",
      "    p = (discountFactor - D)/(U-D)\n",
      "    X = discountFactor*p\n",
      "    Y = discountFactor*(1-p)\n",
      "    S_evol = get_S_Evol(N,U,S)\n",
      "    F = get_F_expiry(S_evol[N],K,isCall)\n",
      "    for t in range(N-1,-1,-1):\n",
      "        if isCall:\n",
      "            for i in range(t+1):\n",
      "                # price if exercise at time t \n",
      "                E_i = S[t][i]-k\n",
      "                C_i = X*F[i+1] + Y*F[i]\n",
      "                F[i] = max(E_i,C_i)\n",
      "        else:\n",
      "            for i in range(t+1):\n",
      "                # price if exercise at time t \n",
      "                E_i = k - S_evol[t][i]\n",
      "                C_i = X*F[i+1] + Y*F[i]\n",
      "                F[i] = max(E_i,C_i)\n",
      "    return F[0]"
     ],
     "language": "python",
     "metadata": {},
     "outputs": [],
     "prompt_number": 112
    },
    {
     "cell_type": "markdown",
     "metadata": {},
     "source": [
      "Lets set up the parameters and get prices for N = 100, 200, and 400"
     ]
    },
    {
     "cell_type": "code",
     "collapsed": false,
     "input": [
      "S = K = 50\n",
      "r = 0.08\n",
      "sigma = 0.4\n",
      "T = 5.0/12\n",
      "N = [100,200,400]\n",
      "for n in N:\n",
      "    print('Number of Steps: %s  Calulated Price: %s'%(n,American_Pricer(S,T,K,r,sigma,False,n)))"
     ],
     "language": "python",
     "metadata": {},
     "outputs": [
      {
       "output_type": "stream",
       "stream": "stdout",
       "text": [
        "Number of Steps: 100  Calulated Price: 4.626406316822154\n",
        "Number of Steps: 200  Calulated Price: 4.630107743551051\n",
        "Number of Steps: 400  Calulated Price: 4.631985608128764"
       ]
      },
      {
       "output_type": "stream",
       "stream": "stdout",
       "text": [
        "\n"
       ]
      }
     ],
     "prompt_number": 113
    },
    {
     "cell_type": "heading",
     "level": 2,
     "metadata": {},
     "source": [
      "Time to Plot"
     ]
    },
    {
     "cell_type": "code",
     "collapsed": false,
     "input": [
      "N = range(1,51)\n",
      "Prices = [0]*50\n",
      "for n in N:\n",
      "    Prices[n-1] = American_Pricer(S,T,K,r,sigma,False,n)\n",
      "plot2 = plt.plot(N,Prices)\n",
      "plt.xlabel('Number of Time Steps (N)')\n",
      "plt.ylabel('Computed Option Price at time 0 (F_0)')\n",
      "plt.title('Computed American Put Price\\n vs. Number of time-steps used in Binomial Lattice')\n",
      "plt.show(plot1)"
     ],
     "language": "python",
     "metadata": {
      "slideshow": {
       "slide_type": "subslide"
      }
     },
     "outputs": [
      {
       "metadata": {},
       "output_type": "display_data",
       "png": "[encoded data removed]",
       "text": [
        "<matplotlib.figure.Figure at 0x78537b8>"
       ]
      }
     ],
     "prompt_number": 114
    }
   ],
   "metadata": {}
  }
 ]
}